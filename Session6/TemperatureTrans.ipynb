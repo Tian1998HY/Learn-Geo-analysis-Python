{
 "cells": [
  {
   "cell_type": "code",
   "execution_count": 1,
   "id": "b2f6c93b",
   "metadata": {},
   "outputs": [],
   "source": []
  },
  {
   "cell_type": "code",
   "execution_count": 5,
   "id": "b04e945b",
   "metadata": {},
   "outputs": [],
   "source": [
    "#import functions from an external .py file\n",
    "import TemperatureTrans as tt\n"
   ]
  },
  {
   "cell_type": "code",
   "execution_count": 6,
   "id": "b151b6e2",
   "metadata": {},
   "outputs": [
    {
     "data": {
      "text/plain": [
       "-261.15"
      ]
     },
     "execution_count": 6,
     "metadata": {},
     "output_type": "execute_result"
    }
   ],
   "source": [
    "# use functions in that file\n",
    "tt.kelvins_to_celsius(12)\n"
   ]
  },
  {
   "cell_type": "code",
   "execution_count": 7,
   "id": "15996de4",
   "metadata": {},
   "outputs": [
    {
     "data": {
      "text/plain": [
       "-248.14999999999998"
      ]
     },
     "execution_count": 7,
     "metadata": {},
     "output_type": "execute_result"
    }
   ],
   "source": [
    "tt.kelvins_to_celsius(25)"
   ]
  },
  {
   "cell_type": "code",
   "execution_count": 8,
   "id": "4f059112",
   "metadata": {},
   "outputs": [
    {
     "data": {
      "text/plain": [
       "-430.86999999999995"
      ]
     },
     "execution_count": 8,
     "metadata": {},
     "output_type": "execute_result"
    }
   ],
   "source": [
    "tt.kelvins_to_fahr(16)"
   ]
  },
  {
   "cell_type": "code",
   "execution_count": 13,
   "id": "8bfd3cb3",
   "metadata": {},
   "outputs": [],
   "source": [
    "# import a function\n",
    "from TemperatureTrans import kelvins_to_celsius \n"
   ]
  },
  {
   "cell_type": "code",
   "execution_count": 14,
   "id": "2409aedf",
   "metadata": {},
   "outputs": [
    {
     "data": {
      "text/plain": [
       "-173.14999999999998"
      ]
     },
     "execution_count": 14,
     "metadata": {},
     "output_type": "execute_result"
    }
   ],
   "source": [
    "kelvins_to_celsius(100)"
   ]
  },
  {
   "cell_type": "code",
   "execution_count": null,
   "id": "9e4f3cf4",
   "metadata": {},
   "outputs": [],
   "source": []
  }
 ],
 "metadata": {
  "kernelspec": {
   "display_name": "Python 3 (ipykernel)",
   "language": "python",
   "name": "python3"
  },
  "language_info": {
   "codemirror_mode": {
    "name": "ipython",
    "version": 3
   },
   "file_extension": ".py",
   "mimetype": "text/x-python",
   "name": "python",
   "nbconvert_exporter": "python",
   "pygments_lexer": "ipython3",
   "version": "3.8.8"
  }
 },
 "nbformat": 4,
 "nbformat_minor": 5
}
